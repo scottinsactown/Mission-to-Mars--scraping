{
 "cells": [
  {
   "cell_type": "markdown",
   "metadata": {},
   "source": [
    "# Mission to Mars"
   ]
  },
  {
   "cell_type": "markdown",
   "metadata": {},
   "source": [
    "## Scraping and Analysis"
   ]
  },
  {
   "cell_type": "code",
   "execution_count": 1,
   "metadata": {},
   "outputs": [],
   "source": [
    "from splinter import Browser\n",
    "from bs4 import BeautifulSoup as bs\n",
    "import time"
   ]
  },
  {
   "cell_type": "markdown",
   "metadata": {},
   "source": [
    "### Mars News"
   ]
  },
  {
   "cell_type": "code",
   "execution_count": 8,
   "metadata": {},
   "outputs": [],
   "source": [
    "executable_path = {\"executable_path\": \"C:\\Program Files\\ChromeDriver\\chromedriver.exe\"}\n",
    "browser = Browser(\"chrome\", **executable_path, headless=False)\n",
    "\n",
    "url = \"https://mars.nasa.gov/news/\"\n",
    "browser.visit(url)\n",
    "time.sleep(1)\n",
    "\n",
    "# Scrape page into Soup\n",
    "html = browser.html\n",
    "soup = bs(html, \"html.parser\")\n",
    "browser.quit()"
   ]
  },
  {
   "cell_type": "code",
   "execution_count": 9,
   "metadata": {},
   "outputs": [
    {
     "name": "stdout",
     "output_type": "stream",
     "text": [
      "NASA's Treasure Map for Water Ice on Mars\n",
      "A new study identifies frozen water just below the Martian surface, where astronauts could easily dig it up.\n"
     ]
    }
   ],
   "source": [
    "# Collect the latest news title and paragraph text\n",
    "title = soup.find('div', class_='content_title').text\n",
    "teaser = soup.find('div', class_='article_teaser_body').text\n",
    "print(title)\n",
    "print(teaser)"
   ]
  },
  {
   "cell_type": "markdown",
   "metadata": {},
   "source": [
    "## Mars Image"
   ]
  },
  {
   "cell_type": "code",
   "execution_count": 17,
   "metadata": {
    "scrolled": false
   },
   "outputs": [],
   "source": [
    "executable_path = {\"executable_path\": \"C:\\Program Files\\ChromeDriver\\chromedriver.exe\"}\n",
    "browser = Browser(\"chrome\", **executable_path, headless=False)\n",
    "\n",
    "url = 'https://www.jpl.nasa.gov/spaceimages/?search=&category=Mars'\n",
    "browser.visit(url)\n",
    "time.sleep(1)\n",
    "\n",
    "# Trigger jpg through Full Image button\n",
    "browser.click_link_by_partial_text('FULL IMAGE')\n",
    "time.sleep(2)\n",
    "\n",
    "# Scrape page into Soup\n",
    "html = browser.html\n",
    "soup = bs(html, 'html.parser')\n",
    "browser.quit()"
   ]
  },
  {
   "cell_type": "code",
   "execution_count": 18,
   "metadata": {},
   "outputs": [
    {
     "name": "stdout",
     "output_type": "stream",
     "text": [
      "https://www.jpl.nasa.gov/spaceimages/images/mediumsize/PIA19639_ip.jpg\n"
     ]
    }
   ],
   "source": [
    "# Collect the image url\n",
    "image = soup.find('div', class_='fancybox-inner')\n",
    "img_url = image.find('img')['src']\n",
    "img_start = 'https://www.jpl.nasa.gov'\n",
    "featured_image_url = img_start + img_url\n",
    "print(featured_image_url)"
   ]
  },
  {
   "cell_type": "markdown",
   "metadata": {},
   "source": [
    "## Mars tweet"
   ]
  },
  {
   "cell_type": "code",
   "execution_count": 6,
   "metadata": {
    "scrolled": false
   },
   "outputs": [],
   "source": [
    "executable_path = {\"executable_path\": \"C:\\Program Files\\ChromeDriver\\chromedriver.exe\"}\n",
    "browser = Browser(\"chrome\", **executable_path, headless=False)\n",
    "\n",
    "url = 'https://twitter.com/marswxreport?lang=en'\n",
    "browser.visit(url)\n",
    "time.sleep(2)\n",
    "\n",
    "# Scrape page into Soup\n",
    "html = browser.html\n",
    "soup = bs(html, 'html.parser')\n",
    "browser.quit()"
   ]
  },
  {
   "cell_type": "code",
   "execution_count": null,
   "metadata": {},
   "outputs": [],
   "source": [
    "# Examine the results, then determine element that contains sought info\n",
    "# print(soup.prettify()) \n",
    "# leads us to item to scrape:\n",
    "\n",
    "#                   <div class=\"js-tweet-text-container\">\n",
    "#                    <p class=\"TweetTextSize TweetTextSize--normal js-tweet-text tweet-text\" data-aria-label-part=\"0\" lang=\"en\">\n",
    "#                     InSight sol 372 (2019-12-13) low -97.2ºC (-143.0ºF) high -21.2ºC (-6.2ºF)\n",
    "# winds from the SSE at 5.9 m/s (13.3 mph) gusting to 20.2 m/s (45.2 mph)\n",
    "# pressure at 6.60 hPa\n",
    "#                     <a class=\"twitter-timeline-link u-hidden\" data-pre-embedded=\"true\" dir=\"ltr\" href=\"https://t.co/SXXKNyUaJu\">\n",
    "#                      pic.twitter.com/SXXKNyUaJu\n",
    "#                     </a>\n",
    "#                    </p>\n",
    "#                   </div>"
   ]
  },
  {
   "cell_type": "code",
   "execution_count": 7,
   "metadata": {
    "scrolled": true
   },
   "outputs": [
    {
     "name": "stdout",
     "output_type": "stream",
     "text": [
      "\n",
      "InSight sol 373 (2019-12-14) low -98.1ºC (-144.6ºF) high -20.1ºC (-4.1ºF)\n",
      "winds from the SW at 4.9 m/s (11.1 mph) gusting to 19.7 m/s (44.0 mph)\n",
      "pressure at 6.60 hPapic.twitter.com/J9DKptw2oo\n",
      "\n"
     ]
    }
   ],
   "source": [
    "# Collect latest weather\n",
    "mars_weather = soup.find('div', class_='js-tweet-text-container').text\n",
    "print(mars_weather)\n",
    "#strip pic?"
   ]
  },
  {
   "cell_type": "markdown",
   "metadata": {},
   "source": [
    "## Mars Facts"
   ]
  },
  {
   "cell_type": "code",
   "execution_count": null,
   "metadata": {},
   "outputs": [],
   "source": [
    "# executable_path = {\"executable_path\": \"C:\\Program Files\\ChromeDriver\\chromedriver.exe\"}\n",
    "# browser = Browser(\"chrome\", **executable_path, headless=False)\n",
    "\n",
    "# url = 'https://space-facts.com/mars/'\n",
    "# browser.visit(url)\n",
    "# time.sleep(2)\n",
    "\n",
    "# html = browser.html\n",
    "# soup = bs(html, 'html.parser')\n",
    "# browser.quit()"
   ]
  },
  {
   "cell_type": "code",
   "execution_count": null,
   "metadata": {},
   "outputs": [],
   "source": [
    "# facts = soup.find('table', id='tablepress-p-mars')\n",
    "# print(facts)"
   ]
  },
  {
   "cell_type": "code",
   "execution_count": 13,
   "metadata": {},
   "outputs": [
    {
     "data": {
      "text/plain": [
       "[                      0                              1\n",
       " 0  Equatorial Diameter:                       6,792 km\n",
       " 1       Polar Diameter:                       6,752 km\n",
       " 2                 Mass:  6.39 × 10^23 kg (0.11 Earths)\n",
       " 3                Moons:            2 (Phobos & Deimos)\n",
       " 4       Orbit Distance:       227,943,824 km (1.38 AU)\n",
       " 5         Orbit Period:           687 days (1.9 years)\n",
       " 6  Surface Temperature:                   -87 to -5 °C\n",
       " 7         First Record:              2nd millennium BC\n",
       " 8          Recorded By:           Egyptian astronomers,\n",
       "                       0                              1\n",
       " 0  Equatorial Diameter:                       6,792 km\n",
       " 1       Polar Diameter:                       6,752 km\n",
       " 2                 Mass:  6.39 × 10^23 kg (0.11 Earths)\n",
       " 3                Moons:            2 (Phobos & Deimos)\n",
       " 4       Orbit Distance:       227,943,824 km (1.38 AU)\n",
       " 5         Orbit Period:           687 days (1.9 years)\n",
       " 6  Surface Temperature:                   -87 to -5 °C\n",
       " 7         First Record:              2nd millennium BC\n",
       " 8          Recorded By:           Egyptian astronomers]"
      ]
     },
     "execution_count": 13,
     "metadata": {},
     "output_type": "execute_result"
    }
   ],
   "source": [
    "import pandas as pd\n",
    "\n",
    "tables = pd.read_html('https://space-facts.com/mars/',match='Polar')\n",
    "tables\n",
    "#need to delete dupe?"
   ]
  },
  {
   "cell_type": "markdown",
   "metadata": {},
   "source": [
    "## Mars Hemispheres"
   ]
  },
  {
   "cell_type": "code",
   "execution_count": 10,
   "metadata": {},
   "outputs": [
    {
     "name": "stdout",
     "output_type": "stream",
     "text": [
      "[{'title': 'Cerberus Hemisphere', 'image_url': 'http://astropedia.astrogeology.usgs.gov/download/Mars/Viking/cerberus_enhanced.tif/full.jpg'}, {'title': 'Schiaparelli Hemisphere', 'image_url': 'http://astropedia.astrogeology.usgs.gov/download/Mars/Viking/schiaparelli_enhanced.tif/full.jpg'}, {'title': 'Syrtis Major Hemisphere', 'image_url': 'http://astropedia.astrogeology.usgs.gov/download/Mars/Viking/syrtis_major_enhanced.tif/full.jpg'}, {'title': 'Valles Marineris Hemisphere', 'image_url': 'http://astropedia.astrogeology.usgs.gov/download/Mars/Viking/valles_marineris_enhanced.tif/full.jpg'}]\n"
     ]
    }
   ],
   "source": [
    "hemis = ['Cerberus Hemisphere','Schiaparelli Hemisphere','Syrtis Major Hemisphere','Valles Marineris Hemisphere']\n",
    "\n",
    "executable_path = {\"executable_path\": \"C:\\Program Files\\ChromeDriver\\chromedriver.exe\"}\n",
    "browser = Browser(\"chrome\", **executable_path, headless=False)\n",
    "url = 'https://astrogeology.usgs.gov/search/results?q=hemisphere+enhanced&k1=target&v1=Mars'\n",
    "browser.visit(url)\n",
    "time.sleep(1)\n",
    "\n",
    "hemisphere_image_urls = []\n",
    "\n",
    "for hemi in hemis:\n",
    "    browser.click_link_by_partial_text(hemi)\n",
    "    time.sleep(2)\n",
    "    html = browser.html\n",
    "    soup = bs(html, 'html.parser')\n",
    "    title = hemi\n",
    "    image_item = soup.find('li')\n",
    "    image = image_item.a['href']\n",
    "    hemisphere_image_urls.append({'title':title,'image_url':image})    \n",
    "    browser.back()\n",
    "\n",
    "browser.quit()\n",
    "print(hemisphere_image_urls)"
   ]
  },
  {
   "cell_type": "markdown",
   "metadata": {},
   "source": [
    "#### Cerberus"
   ]
  },
  {
   "cell_type": "code",
   "execution_count": 2,
   "metadata": {},
   "outputs": [
    {
     "name": "stderr",
     "output_type": "stream",
     "text": [
      "C:\\Users\\Scottinsacto\\Anaconda3\\lib\\site-packages\\splinter\\driver\\webdriver\\__init__.py:504: FutureWarning: browser.find_link_by_partial_text is deprecated. Use browser.links.find_by_partial_text instead.\n",
      "  FutureWarning,\n"
     ]
    }
   ],
   "source": [
    "# Establish path to be used for all hemisphere queries\n",
    "executable_path = {\"executable_path\": \"C:\\Program Files\\ChromeDriver\\chromedriver.exe\"}\n",
    "browser = Browser(\"chrome\", **executable_path, headless=False)\n",
    "url = 'https://astrogeology.usgs.gov/search/results?q=hemisphere+enhanced&k1=target&v1=Mars'\n",
    "browser.visit(url)\n",
    "time.sleep(1)\n",
    "\n",
    "# Link to Cerberus page\n",
    "browser.click_link_by_partial_text('Cerberus')\n",
    "time.sleep(2)\n",
    "html = browser.html\n",
    "soup = bs(html, 'html.parser')"
   ]
  },
  {
   "cell_type": "code",
   "execution_count": 3,
   "metadata": {},
   "outputs": [
    {
     "name": "stdout",
     "output_type": "stream",
     "text": [
      "http://astropedia.astrogeology.usgs.gov/download/Mars/Viking/cerberus_enhanced.tif/full.jpg\n"
     ]
    }
   ],
   "source": [
    "# Collect image\n",
    "Ce_name = \"Cerberus Hemisphere\"\n",
    "image_Ce = soup.find('li')\n",
    "Ce_image = image_Ce.a['href']\n",
    "print(Ce_image)"
   ]
  },
  {
   "cell_type": "markdown",
   "metadata": {},
   "source": [
    "#### Schiaparelli"
   ]
  },
  {
   "cell_type": "code",
   "execution_count": 4,
   "metadata": {},
   "outputs": [],
   "source": [
    "# Link to Schiaparelli page\n",
    "browser.back()\n",
    "browser.click_link_by_partial_text('Schiaparelli')\n",
    "time.sleep(1)\n",
    "html = browser.html\n",
    "soup = bs(html, 'html.parser')"
   ]
  },
  {
   "cell_type": "code",
   "execution_count": 5,
   "metadata": {},
   "outputs": [
    {
     "name": "stdout",
     "output_type": "stream",
     "text": [
      "http://astropedia.astrogeology.usgs.gov/download/Mars/Viking/schiaparelli_enhanced.tif/full.jpg\n"
     ]
    }
   ],
   "source": [
    "# Collect image\n",
    "Sc_name = \"Schiaparelli Hemisphere\"\n",
    "image_Sc = soup.find('li')\n",
    "Sc_image = image_Sc.a['href']\n",
    "print(Sc_image)"
   ]
  },
  {
   "cell_type": "markdown",
   "metadata": {},
   "source": [
    "#### Syrtis"
   ]
  },
  {
   "cell_type": "code",
   "execution_count": 6,
   "metadata": {},
   "outputs": [],
   "source": [
    "# Link to Syrtis page\n",
    "browser.back()\n",
    "browser.click_link_by_partial_text('Syrtis')\n",
    "time.sleep(2)\n",
    "html = browser.html\n",
    "soup = bs(html, 'html.parser')\n",
    "# browser.quit()"
   ]
  },
  {
   "cell_type": "code",
   "execution_count": 7,
   "metadata": {},
   "outputs": [
    {
     "name": "stdout",
     "output_type": "stream",
     "text": [
      "http://astropedia.astrogeology.usgs.gov/download/Mars/Viking/syrtis_major_enhanced.tif/full.jpg\n"
     ]
    }
   ],
   "source": [
    "# Collect image\n",
    "Sy_name = \"Syrtis Major Hemisphere\"\n",
    "image_Sy = soup.find('li')\n",
    "Sy_image = image_Sy.a['href']\n",
    "print(Sy_image)"
   ]
  },
  {
   "cell_type": "markdown",
   "metadata": {},
   "source": [
    "#### Valles Marineris"
   ]
  },
  {
   "cell_type": "code",
   "execution_count": 8,
   "metadata": {},
   "outputs": [],
   "source": [
    "# Link to Valles page\n",
    "browser.back()\n",
    "browser.click_link_by_partial_text('Valles')\n",
    "time.sleep(2)\n",
    "html = browser.html\n",
    "soup = bs(html, 'html.parser')\n",
    "browser.quit()"
   ]
  },
  {
   "cell_type": "code",
   "execution_count": 9,
   "metadata": {},
   "outputs": [
    {
     "name": "stdout",
     "output_type": "stream",
     "text": [
      "http://astropedia.astrogeology.usgs.gov/download/Mars/Viking/valles_marineris_enhanced.tif/full.jpg\n"
     ]
    }
   ],
   "source": [
    "# Collect image\n",
    "Va_name = \"Valles Marineris Hemisphere\"\n",
    "image_Va = soup.find('li')\n",
    "Va_image = image_Va.a['href']\n",
    "print(Va_image)"
   ]
  },
  {
   "cell_type": "code",
   "execution_count": null,
   "metadata": {},
   "outputs": [],
   "source": [
    "# Va_image = \"http://astropedia.astrogeology.usgs.gov/download/Mars/Viking/valles_marineris_enhanced.tif\"\n",
    "# Va_name = \"Valles Marineris Hemisphere\"\n",
    "# Ce_image = \"https://astropedia.astrogeology.usgs.gov/download/Mars/Viking/cerberus_enhanced.tif/full.jpg\"\n",
    "# Ce_name = \"Cerberus Hemisphere\"\n",
    "# Sc_image = \"Schiaparelli Hemisphere\"\n",
    "# Sc_name = \"http://astropedia.astrogeology.usgs.gov/download/Mars/Viking/schiaparelli_enhanced.tif\"\n",
    "# Sy_image = \"Syrtis Major Hemisphere\"\n",
    "# Sy_name = \"http://astropedia.astrogeology.usgs.gov/download/Mars/Viking/syrtis_major_enhanced.tif\"\n",
    "\n",
    "# hemisphere_image_urls = [\n",
    "#     {\"title\": Va_name , \"img_url\": Va_image},\n",
    "#     {\"title\": Ce_name, \"img_url\": Ce_image},\n",
    "#     {\"title\": Sc_name, \"img_url\": Sc_image},\n",
    "#     {\"title\": Sy_name, \"img_url\": Sy_image},\n",
    "# ]\n",
    "\n",
    "# hemisphere_image_urls"
   ]
  }
 ],
 "metadata": {
  "kernelspec": {
   "display_name": "Python 3",
   "language": "python",
   "name": "python3"
  },
  "language_info": {
   "codemirror_mode": {
    "name": "ipython",
    "version": 3
   },
   "file_extension": ".py",
   "mimetype": "text/x-python",
   "name": "python",
   "nbconvert_exporter": "python",
   "pygments_lexer": "ipython3",
   "version": "3.7.3"
  }
 },
 "nbformat": 4,
 "nbformat_minor": 2
}
